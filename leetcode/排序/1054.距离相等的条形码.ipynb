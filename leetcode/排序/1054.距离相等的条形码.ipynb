{
 "cells": [
  {
   "cell_type": "markdown",
   "metadata": {},
   "source": [
    "#### 目录\n",
    "* 原题描述   1054.距离相等的条形码\n",
    "* 第一遍解法 \n",
    "* 网上解法\n",
    "* 优化自己的代码\n",
    "* 第二遍解法 \n",
    "\n",
    "#### 1. 问题描述\n",
    "\n",
    "在一个仓库里，有一排条形码，其中第 i 个条形码为 barcodes[i]。\n",
    "\n",
    "请你重新排列这些条形码，使其中两个相邻的条形码 不能 相等。 你可以返回任何满足该要求的答案，此题保证存在答案。\n",
    "\n",
    " \n",
    "\n",
    "* 示例 1：\n",
    "\n",
    ">输入：[1,1,1,2,2,2] \n",
    "输出：[2,1,2,1,2,1]\n",
    "\n",
    "* 示例 2：\n",
    "\n",
    ">输入：[1,1,1,1,2,2,3,3] \n",
    "输出：[1,3,1,3,2,1,2,1]\n",
    "\n",
    "\n",
    "\n",
    "#### 2、我的第一次解法 02/14\n",
    "\n",
    "**2.1 思路**\n",
    "\n",
    "**2.2 代码尝试**\n",
    "\n"
   ]
  },
  {
   "cell_type": "code",
   "execution_count": null,
   "metadata": {},
   "outputs": [],
   "source": [
    "class Solution:\n",
    "    def rearrangeBarcodes(self, barcodes: List[int]) -> List[int]:\n",
    "\n",
    "        result=[]\n",
    "        leng=len(barcodes)\n",
    "        for i in range(len(barcodes)):\n",
    "            print(i,leng-1-i)\n",
    "            if len(result)==leng-1:\n",
    "                result.append(barcodes[i])\n",
    "                break\n",
    "                #return(result)\n",
    "            else:\n",
    "                #print(leng-i)\n",
    "                result.append(barcodes[i])\n",
    "                result.append(barcodes[leng-1-i])\n",
    "        return(result)\n",
    "\n",
    "## 解答错误"
   ]
  },
  {
   "cell_type": "markdown",
   "metadata": {},
   "source": [
    "**2.3 正确代码解析**\n",
    "\n",
    "* 计数排序\n",
    "* 分隔填入\n",
    "\n",
    "```python\n",
    "class Solution:\n",
    "    def rearrangeBarcodes(self, barcodes: List[int]) -> List[int]:\n",
    "        counter = dict(collections.Counter(barcodes))\n",
    "        #按出现次数统计元素\n",
    "        sortedCounter = sorted( counter, key=lambda k: 0 - counter[k])\n",
    "        barcodes = []\n",
    "        #重新排序\n",
    "        for i in sortedCounter:\n",
    "            barcodes += [i] * counter[i]\n",
    "        \n",
    "        arrangedBarcodes = [None for _ in range(len(barcodes))]\n",
    "        #间隔插入\n",
    "        arrangedBarcodes[::2] = barcodes[:len(arrangedBarcodes[::2])] ##偶数位等于 前偶数位数量的 数\n",
    "        arrangedBarcodes[1::2] = barcodes[len(arrangedBarcodes[::2]):]\n",
    "\n",
    "        return arrangedBarcodes\n",
    "\n",
    "```\n",
    "\n",
    "**2.4 我的代码改进**\n",
    "#### 3、相关知识讲解\n"
   ]
  }
 ],
 "metadata": {
  "kernelspec": {
   "display_name": "Python 3",
   "language": "python",
   "name": "python3"
  },
  "language_info": {
   "codemirror_mode": {
    "name": "ipython",
    "version": 3
   },
   "file_extension": ".py",
   "mimetype": "text/x-python",
   "name": "python",
   "nbconvert_exporter": "python",
   "pygments_lexer": "ipython3",
   "version": "3.6.8"
  }
 },
 "nbformat": 4,
 "nbformat_minor": 2
}
