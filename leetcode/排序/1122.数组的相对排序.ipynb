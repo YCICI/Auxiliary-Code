{
 "cells": [
  {
   "cell_type": "markdown",
   "metadata": {},
   "source": [
    "#### 目录\n",
    "* 原题描述   1122.数组的相对排序\n",
    "\n",
    "计数排序\n",
    "\n",
    "* 第一遍解法 \n",
    "* 网上解法\n",
    "* 优化自己的代码\n",
    "* 第二遍解法 \n",
    "\n",
    "#### 1. 问题描述\n",
    "\n",
    "给你两个数组，arr1 和 arr2，\n",
    "\n",
    "arr2 中的元素各不相同\n",
    "arr2 中的每个元素都出现在 arr1 中\n",
    "对 arr1 中的元素进行排序，使 arr1 中项的相对顺序和 arr2 中的相对顺序相同。未在 arr2 中出现过的元素需要按照升序放在 arr1 的末尾。\n",
    "\n",
    " \n",
    "\n",
    "* 示例：\n",
    "\n",
    ">输入：arr1 = [2,3,1,3,2,4,6,7,9,2,19], arr2 = [2,1,4,3,9,6]  \n",
    "输出：[2,2,2,1,4,3,3,9,6,7,19]\n",
    "\n",
    "\n",
    "#### 2、我的第一次解法 02.07\n",
    "\n",
    "**2.1 思路**\n",
    "\n",
    "* 挑选出arr2中未出现的数字，排序\n",
    "* 连接在arr2后面 有个问题是重复出现的数字没有保留\n",
    "* 不能直接连接，先对arr1与arr2的交集按arr2顺序排列，在连接起来\n",
    "\n",
    "**2.2 代码尝试**\n",
    "\n",
    "\n"
   ]
  },
  {
   "cell_type": "code",
   "execution_count": null,
   "metadata": {},
   "outputs": [],
   "source": [
    "class Solution:\n",
    "    def relativeSortArray(self, arr1: List[int], arr2: List[int]) -> List[int]:\n",
    "\n",
    "        tmp1=[i for i in arr1 if i not in arr2]\n",
    "        tmp2=[i for i in arr1 if i in arr2]\n",
    "        arr3={}\n",
    "        for i,x in enumerate(arr2):\n",
    "            arr3[x]=i      \n",
    "        tmp3 = sorted(tmp2, key=lambda x:arr3[x])\n",
    "        return(tmp3+sorted(tmp1))\n",
    "\n",
    "# 解答正确，不是最优解"
   ]
  },
  {
   "cell_type": "markdown",
   "metadata": {},
   "source": [
    "**2.3 正确代码解析**\n",
    "\n",
    "计数排序\n",
    "\n",
    "```python\n",
    "\n",
    "class Solution:\n",
    "    def relativeSortArray(self, arr1: List[int], arr2: List[int]) -> List[int]:\n",
    "        arr = [0 for _ in range(1001)]  # 由于题目说arr1的范围在0-1000，所以生成一个1001大小的数组用来存放每个数出现的次数。\n",
    "        ans = []  # 储存答案的数组。\n",
    "        for i in range(len(arr1)):  # 遍历arr1，把整个arr1的数的出现次数储存在arr上，arr的下标对应arr1的值，arr的值对应arr1中值出现的次数。\n",
    "            arr[arr1[i]] += 1  # 如果遇到了这个数，就把和它值一样的下标位置上+1，表示这个数在这个下标i上出现了1次。\n",
    "        for i in range(len(arr2)):  # 遍历arr2，现在开始要输出答案了。\n",
    "            while arr[arr2[i]] > 0:  # 如果arr2的值在arr所对应的下标位置出现次数大于0，那么就说明arr中的这个位置存在值。\n",
    "                ans.append(arr2[i])  # 如果存在值，那就把它加到ans中，因为要按arr2的顺序排序。\n",
    "                arr[arr2[i]] -= 1  # 加进去了次数 -1 ，不然就死循环了。\n",
    "        for i in range(len(arr)):  # 如果arr1的值不在arr2中，那么不能就这么结束了，因为题目说了如果不在，剩下的值按照升序排序。\n",
    "            while arr[i] > 0:  # 同样也是找到大于0的下标，然后一直加到ans中，直到次数为0。\n",
    "                ans.append(i)\n",
    "                arr[i] -= 1\n",
    "        return ans  # 返回最终答案。\n",
    "\n",
    "```\n",
    "\n",
    "**2.4 我的代码改进**\n",
    "#### 3、相关知识讲解"
   ]
  }
 ],
 "metadata": {
  "kernelspec": {
   "display_name": "Python 3",
   "language": "python",
   "name": "python3"
  },
  "language_info": {
   "codemirror_mode": {
    "name": "ipython",
    "version": 3
   },
   "file_extension": ".py",
   "mimetype": "text/x-python",
   "name": "python",
   "nbconvert_exporter": "python",
   "pygments_lexer": "ipython3",
   "version": "3.6.8"
  }
 },
 "nbformat": 4,
 "nbformat_minor": 2
}
