{
 "cells": [
  {
   "cell_type": "markdown",
   "metadata": {},
   "source": [
    "#### 目录\n",
    "* 原题描述   976.三角形的最长周长\n",
    "排序\n",
    "* 第一遍解法 \n",
    "* 网上解法\n",
    "* 优化自己的代码\n",
    "* 第二遍解法 \n",
    "\n",
    "#### 1. 问题描述\n",
    "\n",
    "给定由一些正数（代表长度）组成的数组 A，返回由其中三个长度组成的、面积不为零的三角形的最大周长。\n",
    "\n",
    "如果不能形成任何面积不为零的三角形，返回 0。\n",
    "\n",
    " \n",
    "\n",
    "示例 1：\n",
    "\n",
    "输入：[2,1,2]\n",
    "输出：5\n",
    "示例 2：\n",
    "\n",
    "输入：[1,2,1]\n",
    "输出：0\n",
    "示例 3：\n",
    "\n",
    "输入：[3,2,3,4]\n",
    "输出：10\n",
    "示例 4：\n",
    "\n",
    "输入：[3,6,2,3]\n",
    "输出：8\n",
    "\n",
    "#### 2、我的第一次解法 12.26\n",
    "\n",
    "**2.1 思路**\n",
    "\n",
    "* 怎么判断为三角形的周长？\n",
    "\n",
    "**2.2 代码尝试**"
   ]
  },
  {
   "cell_type": "code",
   "execution_count": null,
   "metadata": {},
   "outputs": [],
   "source": [
    "class Solution:\n",
    "    def largestPerimeter(self, A: List[int]) -> int:\n",
    "\n",
    "        result=0\n",
    "        A=sorted(A)\n",
    "        #print(A)\n",
    "        for i in range(len(A)):\n",
    "            for j in range(i+1,len(A)-1):\n",
    "                #print('j',j)\n",
    "                if A[i]+A[j]>A[j+1]:\n",
    "                    result=max(result,A[i]+A[j]+A[j+1])\n",
    "        return(result)\n",
    "    \n",
    "#解答超时\n",
    "##应该从反向开始计算三角形周长"
   ]
  },
  {
   "cell_type": "markdown",
   "metadata": {},
   "source": [
    "**2.3 正确代码解析**\n",
    "\n",
    "**算法**\n",
    "满足a+b<c等式三边即可构成三角形\n",
    "\n",
    "题意是要寻找周长最长的三角形，则选取最长的边为c，再得到最长的a和b就可以了\n",
    "\n",
    "遍历可以从大到小遍历即可\n",
    "\n",
    "```python\n",
    "\n",
    "class Solution(object):\n",
    "    def largestPerimeter(self, A):\n",
    "        A.sort()\n",
    "        for i in xrange(len(A) - 3, -1, -1):\n",
    "            if A[i] + A[i+1] > A[i+2]:\n",
    "                return(A[i] + A[i+1] + A[i+2])\n",
    "        return(0)\n",
    "\n",
    "```\n",
    "\n",
    "**2.4 我的代码改进**\n",
    "#### 3、相关知识讲解"
   ]
  }
 ],
 "metadata": {
  "kernelspec": {
   "display_name": "Python 3",
   "language": "python",
   "name": "python3"
  },
  "language_info": {
   "codemirror_mode": {
    "name": "ipython",
    "version": 3
   },
   "file_extension": ".py",
   "mimetype": "text/x-python",
   "name": "python",
   "nbconvert_exporter": "python",
   "pygments_lexer": "ipython3",
   "version": "3.6.8"
  }
 },
 "nbformat": 4,
 "nbformat_minor": 2
}
