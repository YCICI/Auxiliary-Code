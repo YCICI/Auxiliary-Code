{
 "cells": [
  {
   "cell_type": "markdown",
   "metadata": {},
   "source": [
    "#### 目录\n",
    "* 原题描述   524.通过删除字母匹配到字典里最长单词\n",
    "\n",
    "排序，字符串查找\n",
    "\n",
    "* 第一遍解法 \n",
    "* 网上解法\n",
    "* 优化自己的代码\n",
    "* 第二遍解法 \n",
    "\n",
    "#### 1. 问题描述\n",
    "\n",
    "给定一个字符串和一个字符串字典，找到字典里面最长的字符串，该字符串可以通过删除给定字符串的某些字符来得到。如果答案不止一个，返回长度最长且字典顺序最小的字符串。如果答案不存在，则返回空字符串。\n",
    "\n",
    "* 示例 1:\n",
    "\n",
    ">输入:s = \"abpcplea\", d = [\"ale\",\"apple\",\"monkey\",\"plea\"]            \n",
    "输出: \"apple\"\n",
    "\n",
    "* 示例 2:\n",
    "\n",
    ">输入: s = \"abpcplea\", d = [\"a\",\"b\",\"c\"]     \n",
    "输出: \"a\"\n",
    "\n",
    "\n",
    "#### 2、我的第一次解法 12.26\n",
    "\n",
    "**2.1 思路**\n",
    "\n",
    "* 先对字典进行排序，从长的字符串进行对比\n",
    "* 怎么判断 该字符可以通过删除给定字符来得到\n",
    "\n",
    "**2.2 代码尝试**\n"
   ]
  },
  {
   "cell_type": "code",
   "execution_count": null,
   "metadata": {},
   "outputs": [],
   "source": [
    "class Solution:\n",
    "    def findLongestWord(self, s: str, d: List[str]) -> str:\n",
    "\n",
    "        d=sorted(d,key = lambda x:-len(x))\n",
    "        s=sorted(s)\n",
    "        print(s)\n",
    "        k=0\n",
    "        for tmp in d:\n",
    "            for i in range(len(tmp)):\n",
    "                for j in range(k,len(s),1):\n",
    "                    if tmp[i]==s[j]:\n",
    "                        break\n",
    "                    elif tmp[i]!=s[j]:\n",
    "                        j+1\n",
    "                        continue\n",
    "                                  \n",
    "        return(\"\")\n",
    "## 解答错误，字符串的查找可以用内置函数find"
   ]
  },
  {
   "cell_type": "markdown",
   "metadata": {},
   "source": [
    "**2.3 正确代码解析**\n",
    "\n",
    "\n",
    "```python\n",
    "\n",
    "class Solution:\n",
    "    def findLongestWord(self, s: str, d: List[str]) -> str:\n",
    "        d.sort(key = lambda x: [-len(x), x])\n",
    "        def f(c):                   #匹配函数\n",
    "            i = 0\n",
    "            for j in c:             #遍历单词里的字母\n",
    "                k = s.find(j, i)    #查找函数，后一个参数是查找起点\n",
    "                if k == -1:\n",
    "                    return False    #查找失败就返回错误\n",
    "                i = k + 1           #查找成功就更新查找起点\n",
    "            return True\n",
    "        for c in d:                 #遍历有序字典里的单词\n",
    "            if f(c):                #如果匹配就返回单词\n",
    "                return c\n",
    "        return ''\n",
    "\n",
    "```"
   ]
  },
  {
   "cell_type": "markdown",
   "metadata": {},
   "source": [
    "**2.4 我的代码改进**\n",
    "#### 3、相关知识讲解\n"
   ]
  }
 ],
 "metadata": {
  "kernelspec": {
   "display_name": "Python 3",
   "language": "python",
   "name": "python3"
  },
  "language_info": {
   "codemirror_mode": {
    "name": "ipython",
    "version": 3
   },
   "file_extension": ".py",
   "mimetype": "text/x-python",
   "name": "python",
   "nbconvert_exporter": "python",
   "pygments_lexer": "ipython3",
   "version": "3.6.8"
  }
 },
 "nbformat": 4,
 "nbformat_minor": 2
}
