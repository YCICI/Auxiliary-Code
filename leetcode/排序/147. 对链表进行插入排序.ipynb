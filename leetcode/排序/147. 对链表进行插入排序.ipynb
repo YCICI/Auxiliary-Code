{
 "cells": [
  {
   "cell_type": "markdown",
   "metadata": {},
   "source": [
    "#### 目录\n",
    "* 原题描述   147. 对链表进行插入排序\n",
    "链表，排序\n",
    "* 第一遍解法 \n",
    "* 网上解法\n",
    "* 优化自己的代码\n",
    "* 第二遍解法 \n",
    "\n",
    "#### 1. 问题描述\n",
    "\n",
    "插入排序算法：\n",
    "\n",
    "插入排序是迭代的，每次只移动一个元素，直到所有元素可以形成一个有序的输出列表。\n",
    "每次迭代中，插入排序只从输入数据中移除一个待排序的元素，找到它在序列中适当的位置，并将其插入。\n",
    "重复直到所有输入数据插入完为止。\n",
    " \n",
    "\n",
    "* 示例 1：\n",
    "\n",
    "> 输入: 4->2->1->3 \n",
    "输出: 1->2->3->4\n",
    "\n",
    "* 示例 2：\n",
    "\n",
    ">输入: -1->5->3->4->0 \n",
    "输出: -1->0->3->4->5\n",
    "\n",
    "\n",
    "#### 2、我的第一次解法 12.26\n",
    "\n",
    "**2.1 思路**\n",
    "\n",
    "**2.2 代码尝试**\n",
    "\n",
    "**2.3 正确代码解析**\n",
    "\n",
    "**2.4 我的代码改进**\n",
    "#### 3、相关知识讲解\n"
   ]
  }
 ],
 "metadata": {
  "kernelspec": {
   "display_name": "Python 3",
   "language": "python",
   "name": "python3"
  },
  "language_info": {
   "codemirror_mode": {
    "name": "ipython",
    "version": 3
   },
   "file_extension": ".py",
   "mimetype": "text/x-python",
   "name": "python",
   "nbconvert_exporter": "python",
   "pygments_lexer": "ipython3",
   "version": "3.6.8"
  }
 },
 "nbformat": 4,
 "nbformat_minor": 2
}
