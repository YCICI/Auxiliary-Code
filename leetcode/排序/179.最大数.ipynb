{
 "cells": [
  {
   "cell_type": "markdown",
   "metadata": {},
   "source": [
    "#### 目录\n",
    "* 原题描述   179.最大数\n",
    "* 第一遍解法 \n",
    "* 网上解法\n",
    "* 优化自己的代码\n",
    "* 第二遍解法 \n",
    "\n",
    "#### 1. 问题描述\n",
    "\n",
    "给定一组非负整数，重新排列它们的顺序使之组成一个最大的整数。\n",
    "\n",
    "* 示例 1:\n",
    "\n",
    ">输入: [10,2] \n",
    "输出: 210\n",
    "\n",
    "* 示例 2:\n",
    "\n",
    ">输入: [3,30,34,5,9] \n",
    "输出: 9534330\n",
    "\n",
    "\n",
    "\n",
    "#### 2、我的第一次解法 0213\n",
    "\n",
    "**2.1 思路**\n",
    "\n",
    "* 思路  按照首位数字最大的进行排序\n",
    "* 首位数字相同 比较第二位数字\n",
    "* 卡点 首字母相等的 多位数 直接排序\n",
    "\n",
    "**2.2 代码尝试**"
   ]
  },
  {
   "cell_type": "code",
   "execution_count": null,
   "metadata": {},
   "outputs": [],
   "source": [
    "class Solution:\n",
    "    def largestNumber(self, nums: List[int]) -> str:\n",
    "        nums=[str(i) for i in nums]\n",
    "        nums=sorted(nums,reverse=True)\n",
    "        #nums=sorted(nums,key=lambda x:x[0],reverse=True) \n",
    "        #print(nums)\n",
    "        nums=sorted(nums,key=lambda x:x[0] or x,reverse=True)\n",
    "       # print(nums)\n",
    "        return(\"\".join(nums))\n",
    "\n",
    "# 解答错误，首字母相同的数字会出现错误"
   ]
  },
  {
   "cell_type": "markdown",
   "metadata": {},
   "source": [
    "**2.3 正确代码解析**\n",
    "\n",
    "\n",
    "自定义排序\n",
    "\n",
    "某一对整数 a 和 b ，我们的比较结果是 a 应该在 b 前面，这意味着 a⌢b>b⌢a ，其中 ⌢ 表示连接。\n",
    "如果排序结果是错的，说明存在一个 c ， b 在 c 前面且 c 在 a 的前面。这产生了矛盾，因为 a⌢b>b⌢a 和 b⌢c>c⌢b 意味着a⌢c>c⌢a 。换言之，我们的自定义比较方法保证了传递性，所以这样子排序是对的\n",
    "\n",
    "```python\n",
    "\n",
    "class LargerNumKey(str):\n",
    "    def __lt__(x, y): ## 判断self对象是否小于 other \n",
    "        return x+y > y+x ## 自定义\n",
    "        \n",
    "class Solution:\n",
    "    def largestNumber(self, nums):\n",
    "        largest_num = ''.join(sorted(map(str, nums), key=LargerNumKey))\n",
    "        return '0' if largest_num[0] == '0' else largest_num\n",
    "\n",
    "```\n",
    "\n",
    "**2.4 我的代码改进**\n",
    "#### 3、相关知识讲解"
   ]
  }
 ],
 "metadata": {
  "kernelspec": {
   "display_name": "Python 3",
   "language": "python",
   "name": "python3"
  },
  "language_info": {
   "codemirror_mode": {
    "name": "ipython",
    "version": 3
   },
   "file_extension": ".py",
   "mimetype": "text/x-python",
   "name": "python",
   "nbconvert_exporter": "python",
   "pygments_lexer": "ipython3",
   "version": "3.6.8"
  }
 },
 "nbformat": 4,
 "nbformat_minor": 2
}
