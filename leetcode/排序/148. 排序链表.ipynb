{
 "cells": [
  {
   "cell_type": "markdown",
   "metadata": {},
   "source": [
    "#### 目录\n",
    "* 原题描述   148. 排序链表\n",
    "归并排序\n",
    "* 第一遍解法 \n",
    "* 网上解法\n",
    "* 优化自己的代码\n",
    "* 第二遍解法 \n",
    "\n",
    "#### 1. 问题描述\n",
    "\n",
    "在 O(n log n) 时间复杂度和常数级空间复杂度下，对链表进行排序。\n",
    "\n",
    "* 示例 1:\n",
    "\n",
    "> 输入: 4->2->1->3 \n",
    "输出: 1->2->3->4\n",
    "\n",
    "* 示例 2:\n",
    "\n",
    ">输入: -1->5->3->4->0      \n",
    "输出: -1->0->3->4->5\n",
    "\n",
    "\n",
    "\n",
    "#### 2、我的第一次解法 0209\n",
    "\n",
    "**2.1 思路**\n",
    "\n",
    "* 链表,概念同二叉树，先需要迭代取值，然后再生成链表\n",
    "\n",
    "**2.2 代码尝试**"
   ]
  },
  {
   "cell_type": "code",
   "execution_count": null,
   "metadata": {},
   "outputs": [],
   "source": [
    "# Definition for singly-linked list.\n",
    "# class ListNode:\n",
    "#     def __init__(self, x):\n",
    "#         self.val = x\n",
    "#         self.next = None\n",
    "\n",
    "class Solution:\n",
    "    def sortList(self, head: ListNode) -> ListNode:\n",
    "        ## 链表,概念同二叉树，先需要迭代取值，然后再生成链表\n",
    "        result=[]\n",
    "        def getval(node):          \n",
    "            if node:\n",
    "                result.append(node.val)\n",
    "                getval(node.next)\n",
    "            #print(result)      \n",
    "        getval(head)\n",
    "        sorted(result)\n",
    "        ## 定义迭代生成列表\n",
    "        \n",
    "## 解题失败，首先链表概念不清楚"
   ]
  },
  {
   "cell_type": "markdown",
   "metadata": {},
   "source": [
    "**2.3 正确代码解析**\n",
    "\n",
    "\n",
    "首先分析题意，题目要求O（nlgn）\n",
    "\n",
    "链表不具备数组随机访问这一特性，因此很多数组设计遍历和交换的排序方法都不适用于链表排序，只有归并排序符合要求\n",
    "\n",
    "**归并排序？**\n",
    "\n",
    "**2.4 我的代码改进**\n",
    "#### 3、相关知识讲解\n"
   ]
  }
 ],
 "metadata": {
  "kernelspec": {
   "display_name": "Python 3",
   "language": "python",
   "name": "python3"
  },
  "language_info": {
   "codemirror_mode": {
    "name": "ipython",
    "version": 3
   },
   "file_extension": ".py",
   "mimetype": "text/x-python",
   "name": "python",
   "nbconvert_exporter": "python",
   "pygments_lexer": "ipython3",
   "version": "3.6.8"
  }
 },
 "nbformat": 4,
 "nbformat_minor": 2
}
