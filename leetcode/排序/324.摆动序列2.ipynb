{
 "cells": [
  {
   "cell_type": "markdown",
   "metadata": {},
   "source": [
    "#### 目录\n",
    "* 原题描述   324. 摆动排序 II\n",
    "* 第一遍解法 \n",
    "* 网上解法\n",
    "* 优化自己的代码\n",
    "* 第二遍解法 \n",
    "\n",
    "#### 1. 问题描述\n",
    "\n",
    "给定一个无序的数组 nums，将它重新排列成 nums[0] < nums[1] > nums[2] < nums[3]... 的顺序。\n",
    "\n",
    "* 示例 1:\n",
    "\n",
    ">输入: nums = [1, 5, 1, 1, 6, 4] \n",
    "输出: 一个可能的答案是 [1, 4, 1, 5, 1, 6]\n",
    "\n",
    "* 示例 2:\n",
    "\n",
    ">输入: nums = [1, 3, 2, 2, 3, 1] \n",
    "输出: 一个可能的答案是 [2, 3, 1, 3, 1, 2]\n",
    "\n",
    "\n",
    "#### 2、我的第一次解法 0213\n",
    "\n",
    "**2.1 思路**\n",
    "\n",
    "* 排序\n",
    "* 然后按照奇数位偶数位放进去\n",
    "\n",
    "**2.2 代码尝试**"
   ]
  },
  {
   "cell_type": "code",
   "execution_count": null,
   "metadata": {},
   "outputs": [],
   "source": [
    "class Solution:\n",
    "    def wiggleSort(self, nums: List[int]) -> None:\n",
    "        \"\"\"\n",
    "        Do not return anything, modify nums in-place instead.\n",
    "        \"\"\"\n",
    "        #排序\n",
    "        # 然后按照奇数位偶数位放进去\n",
    "        result=[]\n",
    "        nums=sorted(nums)\n",
    "        j=len(nums)-1\n",
    "        for i in range(len(nums)):\n",
    "            #print(i,j)\n",
    "            if i!=j+1:\n",
    "                result.append(nums[i])\n",
    "                result.append(nums[j])\n",
    "                j-=1\n",
    "            else:\n",
    "                break\n",
    "        nums[:]=result[:]\n",
    " \n",
    "# 解答错误"
   ]
  },
  {
   "cell_type": "markdown",
   "metadata": {},
   "source": [
    "**2.3 正确代码解析**\n",
    "\n",
    "**先排序再插空**\n",
    "\n",
    "思路是这个思路，但是我的代码没有实现\n",
    "\n",
    "```python\n",
    "\n",
    "class Solution:\n",
    "def wiggleSort(self, nums: List[int]) -> None:\n",
    "    \"\"\"\n",
    "     Do not return anything, modify nums in-place instead.\n",
    "     \"\"\"\n",
    "    nums.sort(reverse=True)\n",
    "    mid = len(nums) // 2\n",
    "    nums[1::2],nums[0::2] = nums[:mid], nums[mid:]\n",
    "\n",
    "```\n",
    "\n",
    "**2.4 我的代码改进**\n",
    "#### 3、相关知识讲解"
   ]
  }
 ],
 "metadata": {
  "kernelspec": {
   "display_name": "Python 3",
   "language": "python",
   "name": "python3"
  },
  "language_info": {
   "codemirror_mode": {
    "name": "ipython",
    "version": 3
   },
   "file_extension": ".py",
   "mimetype": "text/x-python",
   "name": "python",
   "nbconvert_exporter": "python",
   "pygments_lexer": "ipython3",
   "version": "3.6.8"
  }
 },
 "nbformat": 4,
 "nbformat_minor": 2
}
