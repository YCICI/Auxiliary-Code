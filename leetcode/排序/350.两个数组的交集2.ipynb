{
 "cells": [
  {
   "cell_type": "markdown",
   "metadata": {},
   "source": [
    "#### 目录\n",
    "* 原题描述   350.两个数组的交集||\n",
    "排序\n",
    "* 第一遍解法 \n",
    "* 网上解法\n",
    "* 优化自己的代码\n",
    "* 第二遍解法 \n",
    "\n",
    "#### 1. 问题描述\n",
    "\n",
    "给定两个数组，编写一个函数来计算它们的交集。\n",
    "\n",
    "* 示例 1:\n",
    "\n",
    ">输入: nums1 = [1,2,2,1], nums2 = [2,2]   \n",
    "输出: [2,2]\n",
    "\n",
    "* 示例 2:\n",
    "\n",
    "> 输入: nums1 = [4,9,5], nums2 = [9,4,9,8,4]   \n",
    "输出: [4,9]\n",
    "\n",
    "\n",
    "说明：\n",
    "\n",
    "输出结果中每个元素出现的次数，应与元素在两个数组中出现的次数一致。\n",
    "我们可以不考虑输出结果的顺序。\n",
    "\n",
    "\n",
    "#### 2、我的第一次解法 12.26\n",
    "\n",
    "**2.1 思路**\n",
    "\n",
    "\n",
    "* 重复数字的次数应该是两个数组之间的最小次数\n",
    "* 字典计数，然后求字典交集\n",
    "\n",
    "**2.2 代码尝试**"
   ]
  },
  {
   "cell_type": "code",
   "execution_count": null,
   "metadata": {},
   "outputs": [],
   "source": [
    "class Solution:\n",
    "    def intersect(self, nums1: List[int], nums2: List[int]) -> List[int]:\n",
    "        # 进阶求交集，还需要考虑重复数字\n",
    "        result=[]\n",
    "        #tmp=list(set(nums1)&set(nums2))\n",
    "        # 应该用双指针计数的方式，来求出交集\n",
    "\n",
    "        dict_s1={}\n",
    "        dict_s2={}\n",
    "        for key in nums1:\n",
    "            dict_s1[key]=dict_s1.get(key, 0) + 1\n",
    "        for key in nums2:\n",
    "            dict_s2[key]=dict_s2.get(key, 0) + 1\n",
    "        arr1=list(dict_s1.keys()&dict_s2.keys())\n",
    "        for i in arr1:\n",
    "            \n",
    "\n",
    "## 半小时内未完成\n"
   ]
  },
  {
   "cell_type": "markdown",
   "metadata": {},
   "source": [
    "**2.3 正确代码解析**\n",
    "\n",
    "**解法1 双指针**\n",
    "\n",
    "```python\n",
    "class Solution:\n",
    "    def intersect(self, nums1: [int], nums2: [int]) -> [int]:\n",
    "        nums1.sort()\n",
    "        nums2.sort()\n",
    "        r = []\n",
    "        left, right = 0, 0\n",
    "        while left < len(nums1) and right < len(nums2):\n",
    "            if nums1[left] < nums2[right]:\n",
    "                left += 1\n",
    "            elif nums1[left] == nums2[right]:\n",
    "                r.append(nums1[left])\n",
    "                left += 1\n",
    "                right += 1    \n",
    "            else:\n",
    "                right += 1\n",
    "        return r\n",
    "\n",
    "```\n",
    "\n",
    "\n",
    "**2.4 我的代码改进**\n",
    "#### 3、相关知识讲解"
   ]
  }
 ],
 "metadata": {
  "kernelspec": {
   "display_name": "Python 3",
   "language": "python",
   "name": "python3"
  },
  "language_info": {
   "codemirror_mode": {
    "name": "ipython",
    "version": 3
   },
   "file_extension": ".py",
   "mimetype": "text/x-python",
   "name": "python",
   "nbconvert_exporter": "python",
   "pygments_lexer": "ipython3",
   "version": "3.6.8"
  }
 },
 "nbformat": 4,
 "nbformat_minor": 2
}
