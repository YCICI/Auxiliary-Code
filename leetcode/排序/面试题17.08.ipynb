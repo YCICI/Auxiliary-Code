{
 "cells": [
  {
   "cell_type": "markdown",
   "metadata": {},
   "source": [
    "#### 目录\n",
    "* 原题描述   面试题17.08\n",
    "* 第一遍解法 \n",
    "* 网上解法\n",
    "* 优化自己的代码\n",
    "* 第二遍解法 \n",
    "\n",
    "#### 1. 问题描述\n",
    "\n",
    "有个马戏团正在设计叠罗汉的表演节目，一个人要站在另一人的肩膀上。出于实际和美观的考虑，在上面的人要比下面的人矮一点且轻一点。已知马戏团每个人的身高和体重，请编写代码计算叠罗汉最多能叠几个人。\n",
    "\n",
    "* 示例：\n",
    "\n",
    ">输入：height = [65,70,56,75,60,68] weight = [100,150,90,190,95,110] \n",
    "输出：6    \n",
    "解释：从上往下数，叠罗汉最多能叠 6 层：(56,90), (60,95), (65,100), (68,110), (70,150), (75,190)\n",
    "\n",
    "\n",
    "#### 2、我的第一次解法 02/14\n",
    "\n",
    "**2.1 思路**\n",
    "\n",
    "**2.2 代码尝试**\n"
   ]
  },
  {
   "cell_type": "code",
   "execution_count": null,
   "metadata": {},
   "outputs": [],
   "source": [
    "class Solution:\n",
    "    def bestSeqAtIndex(self, height: List[int], weight: List[int]) -> int:\n",
    "        ##联合遍历，一层一层叠加\n",
    "        people=sorted([[h,w] for h,w in zip(height,weight)],key=lambda x:-x[0])\n",
    "        print(people)\n",
    "        result=[0]*len(people)\n",
    "        for i in range(len(people)):\n",
    "            under=people[i][1]\n",
    "            for p in range(i,len(people)):\n",
    "               # print('p',p)\n",
    "                if people[p][1]<=under:\n",
    "                    result[i]+=1\n",
    "                    under=people[p][1]\n",
    "        print(result)\n",
    "        return(max(result))\n",
    "    \n",
    "## 解答错误，存在逻辑漏洞，不一定满足条件就可以进行叠罗汉，\n",
    "#要寻求可以叠罗汉的最大解"
   ]
  },
  {
   "cell_type": "markdown",
   "metadata": {},
   "source": [
    "**2.3 正确代码解析**\n",
    "\n",
    "```python\n",
    "\n",
    "class Solution:\n",
    "    def bestSeqAtIndex(self, height: List[int], weight: List[int]) -> int:\n",
    "        hw = sorted([(h, w) for h, w in zip(height, weight)])\n",
    "        stack = []\n",
    "        for h, w in hw:\n",
    "            if not stack or stack[-1][0] < w:\n",
    "                stack.append((w, h))\n",
    "            else:\n",
    "                index = bisect.bisect_left(stack, (w, 0))##返回 (w, 0)插入位置\n",
    "                stack[index] = (w, h)\n",
    "        return len(stack)\n",
    "    \n",
    "```\n",
    "\n",
    "**2.4 我的代码改进**\n",
    "#### 3、相关知识讲解\n"
   ]
  }
 ],
 "metadata": {
  "kernelspec": {
   "display_name": "Python 3",
   "language": "python",
   "name": "python3"
  },
  "language_info": {
   "codemirror_mode": {
    "name": "ipython",
    "version": 3
   },
   "file_extension": ".py",
   "mimetype": "text/x-python",
   "name": "python",
   "nbconvert_exporter": "python",
   "pygments_lexer": "ipython3",
   "version": "3.6.8"
  }
 },
 "nbformat": 4,
 "nbformat_minor": 2
}
