{
 "cells": [
  {
   "cell_type": "markdown",
   "metadata": {},
   "source": [
    "#### 目录\n",
    "* 原题描述   922.按奇偶排序数组||\n",
    "\n",
    "排序\n",
    "\n",
    "* 第一遍解法 \n",
    "* 网上解法\n",
    "* 优化自己的代码\n",
    "* 第二遍解法 \n",
    "\n",
    "#### 1. 问题描述\n",
    "\n",
    "给定一个非负整数数组 A， A 中一半整数是奇数，一半整数是偶数。\n",
    "\n",
    "对数组进行排序，以便当 A[i] 为奇数时，i 也是奇数；当 A[i] 为偶数时， i 也是偶数。\n",
    "\n",
    "你可以返回任何满足上述条件的数组作为答案。\n",
    " \n",
    "\n",
    "* 示例：\n",
    "\n",
    ">输入：[4,2,5,7] \n",
    "输出：[4,5,2,7] \n",
    "解释：[4,7,2,5]，[2,5,4,7]，[2,7,4,5] 也会被接受\n",
    "\n",
    "\n",
    "#### 2、我的第一次解法 0206\n",
    "\n",
    "**2.1 思路**\n",
    "\n",
    "* 较为死板的做法，先将数组分为偶数组和奇数组，然后按照奇数位置和偶数位置放置数字\n",
    "\n",
    "**2.2 代码尝试**"
   ]
  },
  {
   "cell_type": "code",
   "execution_count": null,
   "metadata": {},
   "outputs": [],
   "source": [
    "class Solution:\n",
    "    def sortArrayByParityII(self, A: List[int]) -> List[int]:\n",
    "        \n",
    "        result=[0]*len(A)\n",
    "        k0=0\n",
    "        k1=1\n",
    "        for i in A:\n",
    "            if i%2==0: \n",
    "                result[k0]=i\n",
    "                k0+=2\n",
    "            else:\n",
    "                result[k1]=i\n",
    "                k1+=2\n",
    "        return(result)\n",
    "#解答正确，但不是最优解法"
   ]
  },
  {
   "cell_type": "markdown",
   "metadata": {},
   "source": [
    "**2.3 正确代码解析**\n",
    "\n",
    "**解法1**遍历\n",
    "\n",
    "同我的解法，不写了\n",
    "\n",
    "**解法2**双指针\n",
    "\n",
    "*　一旦所有偶数都放在了正确的位置上，那么所有奇数也在正确的位置上\n",
    "\n",
    "* 定义两个指针i和j，每次循环保证偶数指针i之前全是偶数，奇数指针j之前位置全是奇数\n",
    "\n",
    "这个解答的逻辑有点绕，个人偏向方法1\n",
    "\n",
    "```python\n",
    "\n",
    "class Solution(object):\n",
    "    def sortArrayByParityII(self, A):\n",
    "        j = 1\n",
    "        for i in xrange(0, len(A), 2):\n",
    "            if A[i] % 2:#如果偶数位指针上为奇数\n",
    "                while A[j] % 2:##此时奇数位指针也为奇数\n",
    "                    j += 2## 遍历下一位数与偶数位交换位置\n",
    "                A[i], A[j] = A[j], A[i]\n",
    "        return A\n",
    "\n",
    "```\n",
    "\n",
    "**2.4 我的代码改进**\n",
    "#### 3、相关知识讲解"
   ]
  }
 ],
 "metadata": {
  "kernelspec": {
   "display_name": "Python 3",
   "language": "python",
   "name": "python3"
  },
  "language_info": {
   "codemirror_mode": {
    "name": "ipython",
    "version": 3
   },
   "file_extension": ".py",
   "mimetype": "text/x-python",
   "name": "python",
   "nbconvert_exporter": "python",
   "pygments_lexer": "ipython3",
   "version": "3.6.8"
  }
 },
 "nbformat": 4,
 "nbformat_minor": 2
}
