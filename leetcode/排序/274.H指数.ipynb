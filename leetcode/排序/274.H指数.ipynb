{
 "cells": [
  {
   "cell_type": "markdown",
   "metadata": {},
   "source": [
    "#### 目录\n",
    "* 原题描述   274.H指数\n",
    "* 第一遍解法 \n",
    "* 网上解法\n",
    "* 优化自己的代码\n",
    "* 第二遍解法 \n",
    "\n",
    "#### 1. 问题描述\n",
    "\n",
    "给定一位研究者论文被引用次数的数组（被引用次数是非负整数）。编写一个方法，计算出研究者的 h 指数。\n",
    "\n",
    "h 指数的定义: “h 代表“高引用次数”（high citations），一名科研人员的 h 指数是指他（她）的 （N 篇论文中）至多有 h 篇论文分别被引用了至少 h 次。（其余的 N - h 篇论文每篇被引用次数不多于 h 次。）”\n",
    "\n",
    " \n",
    "\n",
    "* 示例:\n",
    "\n",
    " > 输入: citations = [3,0,6,1,5]   \n",
    " 输出: 3     \n",
    " 解释: 给定数组表示研究者总共有 5 篇论文，每篇论文相应的被引用了 3, 0, 6, 1, 5 次。    \n",
    " 由于研究者有 3 篇论文每篇至少被引用了 3 次，其余两篇论文每篇被引用不多于 3 次，所以她的 h 指数是 3。\n",
    "\n",
    "\n",
    "\n",
    "\n",
    "#### 2、我的第一次解法 12.26\n",
    "\n",
    "**2.1 思路**\n",
    "\n",
    "*　先排序，比ｉ大的数　大于　比ｉ小的数，则ｈ为比ｉ大的数\n",
    "\n",
    "**2.2 代码尝试**"
   ]
  },
  {
   "cell_type": "code",
   "execution_count": null,
   "metadata": {},
   "outputs": [],
   "source": [
    "class Solution:\n",
    "    def hIndex(self, citations: List[int]) -> int:\n",
    "        citations=sorted(citations)\n",
    "        for s,i in enumerate(citations):\n",
    "            if len(citations)-s＋１>s: ##比该数大的比该书小的多\n",
    "                return(min(i,len(citations)-s))\n",
    "        return(0)\n",
    "        \n",
    "## 解答错误"
   ]
  },
  {
   "cell_type": "markdown",
   "metadata": {},
   "source": [
    "**2.3 正确代码解析**\n",
    "\n",
    "比较第i小的数　和　总个数ｎ-i +1 （因为包括这个数）的大小，若第i小的数大于等于n-i+1（就是有多少个比这个数大的数），那么 h 就是n- i +1\n",
    "\n",
    "```python\n",
    "\n",
    "class Solution:\n",
    "    def hIndex(self, citations: List[int]) -> int:\n",
    "        if citations == [] or max(citations) == 0:\n",
    "            return 0 \n",
    "        c = sorted(citations)\n",
    "        for i in range(len(c)):\n",
    "            if c[i] >= (len(c) - i ):\n",
    "                return (len(c) - i )\n",
    "                break \n",
    "\n",
    "\n",
    "```\n",
    "\n",
    "我的误答解析，比较条件错了，是数与比该数大的数进行比较，不是比该数小的与比该数大的比较\n",
    "\n",
    "**2.4 我的代码改进**\n",
    "#### 3、相关知识讲解\n"
   ]
  },
  {
   "cell_type": "code",
   "execution_count": null,
   "metadata": {},
   "outputs": [],
   "source": []
  }
 ],
 "metadata": {
  "kernelspec": {
   "display_name": "Python 3",
   "language": "python",
   "name": "python3"
  },
  "language_info": {
   "codemirror_mode": {
    "name": "ipython",
    "version": 3
   },
   "file_extension": ".py",
   "mimetype": "text/x-python",
   "name": "python",
   "nbconvert_exporter": "python",
   "pygments_lexer": "ipython3",
   "version": "3.6.8"
  }
 },
 "nbformat": 4,
 "nbformat_minor": 2
}
