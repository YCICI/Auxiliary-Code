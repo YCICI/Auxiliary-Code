{
 "cells": [
  {
   "cell_type": "markdown",
   "metadata": {},
   "source": [
    "#### 目录\n",
    "* 原题描述   242.有效的字母异位词\n",
    "\n",
    "排序\n",
    "* 第一遍解法 \n",
    "* 网上解法\n",
    "* 优化自己的代码\n",
    "* 第二遍解法 \n",
    "\n",
    "#### 1. 问题描述\n",
    "\n",
    "\n",
    "\n",
    "#### 2、我的第一次解法 0207\n",
    "\n",
    "**2.1 思路**\n",
    "\n",
    "* 直接判断交集，bug是重复的字母重复次数不同不能判断\n",
    "* print(set(s)&set(t))\n",
    "* 分别进行频率统计，再进行比较\n",
    "\n",
    "**2.2 代码尝试**"
   ]
  },
  {
   "cell_type": "code",
   "execution_count": null,
   "metadata": {},
   "outputs": [],
   "source": [
    "class Solution:\n",
    "    def isAnagram(self, s: str, t: str) -> bool:\n",
    "\n",
    "        dict_s = {}\n",
    "        dict_t = {}\n",
    "        for key in s:\n",
    "            dict_s[key] = dict_s.get(key, 0) + 1\n",
    "        for key in t:\n",
    "            dict_t[key] = dict_t.get(key, 0) + 1\n",
    "        return(dict_s==dict_t)\n",
    "            #print(1)\n",
    "        \n",
    "##解答正确，但是走了弯路"
   ]
  },
  {
   "cell_type": "markdown",
   "metadata": {},
   "source": [
    "**2.3 正确代码解析**\n",
    "\n",
    "**直接排序**\n",
    "\n",
    "直接排序判断，想的太复杂了\n",
    "\n",
    "```python\n",
    "\n",
    "class Solution(object):\n",
    "    def isAnagram(self, s, t):\n",
    "        \"\"\"\n",
    "        :type s: str\n",
    "        :type t: str\n",
    "        :rtype: bool\n",
    "        \"\"\"\n",
    "        if len(s) != len(t):\n",
    "            return False\n",
    "        if sorted(s) != sorted(t):\n",
    "            return False\n",
    "        return True\n",
    "```\n",
    "\n",
    "**哈希**\n",
    "\n",
    "\n",
    "```python\n",
    "\n",
    "class Solution(object):\n",
    "    def isAnagram(self, s, t):\n",
    "        \"\"\"\n",
    "        :type s: str\n",
    "        :type t: str\n",
    "        :rtype: bool\n",
    "        \"\"\"\n",
    "        if len(s) != len(t):\n",
    "            return False\n",
    "        dicts = collections.defaultdict(int)\n",
    "        for i in range(len(s)):\n",
    "            dicts[s[i]] = dicts[s[i]] + 1\n",
    "            dicts[t[i]] = dicts[t[i]] - 1\n",
    "        for val in dicts.values():\n",
    "            if val != 0:\n",
    "                return False\n",
    "        return True\n",
    "\n",
    "```\n",
    "\n",
    "**2.4 我的代码改进**\n",
    "#### 3、相关知识讲解"
   ]
  }
 ],
 "metadata": {
  "kernelspec": {
   "display_name": "Python 3",
   "language": "python",
   "name": "python3"
  },
  "language_info": {
   "codemirror_mode": {
    "name": "ipython",
    "version": 3
   },
   "file_extension": ".py",
   "mimetype": "text/x-python",
   "name": "python",
   "nbconvert_exporter": "python",
   "pygments_lexer": "ipython3",
   "version": "3.6.8"
  }
 },
 "nbformat": 4,
 "nbformat_minor": 2
}
