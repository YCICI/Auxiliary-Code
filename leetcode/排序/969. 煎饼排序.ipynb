{
 "cells": [
  {
   "cell_type": "markdown",
   "metadata": {},
   "source": [
    "#### 目录\n",
    "* 原题描述   969. 煎饼排序\n",
    "* 第一遍解法 \n",
    "* 网上解法\n",
    "* 优化自己的代码\n",
    "* 第二遍解法 \n",
    "\n",
    "#### 1. 问题描述\n",
    "\n",
    "给定数组 A，我们可以对其进行煎饼翻转：我们选择一些正整数 k <= A.length，然后反转 A 的前 k 个元素的顺序。我们要执行零次或多次煎饼翻转（按顺序一次接一次地进行）以完成对数组 A 的排序。\n",
    "\n",
    "返回能使 A 排序的煎饼翻转操作所对应的 k 值序列。任何将数组排序且翻转次数在 10 * A.length 范围内的有效答案都将被判断为正确。\n",
    "\n",
    " \n",
    "\n",
    "* 示例 1：\n",
    "\n",
    ">输入：[3,2,4,1]\n",
    "输出：[4,2,4,3]\n",
    "解释：\n",
    "我们执行 4 次煎饼翻转，k 值分别为 4，2，4，和 3。\n",
    "初始状态 A = [3, 2, 4, 1]\n",
    "第一次翻转后 (k=4): A = [1, 4, 2, 3]\n",
    "第二次翻转后 (k=2): A = [4, 1, 2, 3]\n",
    "第三次翻转后 (k=4): A = [3, 2, 1, 4]\n",
    "第四次翻转后 (k=3): A = [1, 2, 3, 4]，此时已完成排序。 \n",
    "\n",
    "* 示例 2：\n",
    "\n",
    ">输入：[1,2,3]\n",
    "输出：[]\n",
    "解释：\n",
    "输入已经排序，因此不需要翻转任何内容。\n",
    "请注意，其他可能的答案，如[3，3]，也将被接受。\n",
    "\n",
    "\n",
    "\n",
    "\n",
    "#### 2、我的第一次解法 0209\n",
    "\n",
    "**2.1 思路**\n",
    "\n",
    "**2.2 代码尝试**\n"
   ]
  },
  {
   "cell_type": "code",
   "execution_count": null,
   "metadata": {},
   "outputs": [],
   "source": [
    "class Solution:\n",
    "    def pancakeSort(self, A: List[int]) -> List[int]:\n",
    "        ### 翻转排序\n",
    "        result=[]\n",
    "        for i in range(len(A)):\n",
    "            for j in range(i,len(A),1):\n",
    "                if A[i]<A[j]:\n",
    "                    A[i],A[j]=A[j],A[i]\n",
    "                    result.append(i+j)\n",
    "        print(result)"
   ]
  },
  {
   "cell_type": "markdown",
   "metadata": {},
   "source": [
    "**2.3 正确代码解析**\n",
    "\n",
    "**方法1：从大到小排序**\n",
    "\n",
    "我们可以将最大的元素（在位置 i，下标从 1 开始）进行煎饼翻转 i 操作将它移动到序列的最前面，然后再使用煎饼翻转 A.length 操作将它移动到序列的最后面。\n",
    "\n",
    "此时，最大的元素已经移动到正确的位置上了，所以之后我们就不需要再使用 k 值大于等于 A.length 的煎饼翻转操作了。\n",
    "\n",
    "```python\n",
    "\n",
    "class Solution(object):\n",
    "    def pancakeSort(self, A):\n",
    "        ans = []\n",
    "\n",
    "        N = len(A)\n",
    "        B = sorted(range(1, N+1), key = lambda i: -A[i-1])\n",
    "        for i in B:\n",
    "            for f in ans:\n",
    "                if i <= f:\n",
    "                    i = f+1 - i\n",
    "            ans.extend([i, N])\n",
    "            N -= 1\n",
    "\n",
    "        return ans\n",
    "\n",
    "```\n",
    "\n",
    "**2.4 我的代码改进**\n",
    "#### 3、相关知识讲解"
   ]
  }
 ],
 "metadata": {
  "kernelspec": {
   "display_name": "Python 3",
   "language": "python",
   "name": "python3"
  },
  "language_info": {
   "codemirror_mode": {
    "name": "ipython",
    "version": 3
   },
   "file_extension": ".py",
   "mimetype": "text/x-python",
   "name": "python",
   "nbconvert_exporter": "python",
   "pygments_lexer": "ipython3",
   "version": "3.6.8"
  }
 },
 "nbformat": 4,
 "nbformat_minor": 2
}
