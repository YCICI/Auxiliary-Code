{
 "cells": [
  {
   "cell_type": "markdown",
   "metadata": {},
   "source": [
    "#### 目录\n",
    "* 原题描述   220.存在重复元素|||\n",
    "* 第一遍解法 \n",
    "* 网上解法\n",
    "* 优化自己的代码\n",
    "* 第二遍解法 \n",
    "\n",
    "#### 1. 问题描述\n",
    "\n",
    "\n",
    "\n",
    "#### 2、我的第一次解法 12.26\n",
    "\n",
    "**2.1 思路**\n",
    "\n",
    "* |nums[i]-nums[j]|<t\n",
    "* |i-j|<K\n",
    "* 两次遍历，第一次遍列表，第二次遍历t范围内的数\n",
    "\n",
    "**2.2 代码尝试**"
   ]
  },
  {
   "cell_type": "code",
   "execution_count": null,
   "metadata": {},
   "outputs": [],
   "source": [
    "class Solution:\n",
    "    def containsNearbyAlmostDuplicate(self, nums: List[int], k: int, t: int) -> bool:\n",
    "\n",
    "        for i in range(len(nums)):\n",
    "            for j in range(i+1,min(i+k+1,len(nums))):\n",
    "                #print(i,j)\n",
    "                #print('nums[i]-nums[j]',nums[i]-nums[j])\n",
    "                #print('t',t)\n",
    "                if abs(nums[i]-nums[j])<=t:\n",
    "                    return(True)\n",
    "        return(False)\n",
    "        ## 超出时间限制\n"
   ]
  },
  {
   "cell_type": "markdown",
   "metadata": {},
   "source": [
    "**2.3 正确代码解析**\n",
    "\n",
    "**解法1：利用桶的原理**\n",
    "\n",
    "https://leetcode-cn.com/problems/contains-duplicate-iii/solution/li-yong-tong-de-yuan-li-onpython3-by-zhou-pen-chen/\n",
    "\n",
    "**解法2：查找表和滑动窗口**\n",
    "\n",
    "```python\n",
    "class Solution:\n",
    "    def containsNearbyAlmostDuplicate(self, nums: List[int], k: int, t: int) -> bool:\n",
    "        n = len(nums)\n",
    "        if n <= 1:\n",
    "            return False\n",
    "        \n",
    "        record = set()  # 定义窗口\n",
    "        for i in range(n):\n",
    "            if t == 0:  # 如果t=0，那么看看窗口内是否有重复元素，有就返回True\n",
    "                if nums[i] in record:\n",
    "                    return True\n",
    "            else:\n",
    "                for j in record:  # 遍历窗口元素，判断是否有绝对值小于t的情况，有就返回True\n",
    "                    if abs(j - nums[i]) <= t:\n",
    "                        return True\n",
    "            record.add(nums[i])  # 向集合添加元素\n",
    "            \n",
    "            if len(record) > k:\n",
    "                record.remove(nums[i-k])  # 维护长度为k的窗口\n",
    "        return False    \n",
    "```\n",
    "\n",
    "\n",
    "\n",
    "**2.4 我的代码改进**\n",
    "#### 3、相关知识讲解\n"
   ]
  }
 ],
 "metadata": {
  "kernelspec": {
   "display_name": "Python 3",
   "language": "python",
   "name": "python3"
  },
  "language_info": {
   "codemirror_mode": {
    "name": "ipython",
    "version": 3
   },
   "file_extension": ".py",
   "mimetype": "text/x-python",
   "name": "python",
   "nbconvert_exporter": "python",
   "pygments_lexer": "ipython3",
   "version": "3.6.8"
  }
 },
 "nbformat": 4,
 "nbformat_minor": 2
}
