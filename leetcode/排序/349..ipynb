{
 "cells": [
  {
   "cell_type": "markdown",
   "metadata": {},
   "source": [
    "#### 目录\n",
    "* 原题描述   349.两个数组的交集\n",
    "\n",
    "排序题\n",
    "\n",
    "* 第一遍解法 \n",
    "* 网上解法\n",
    "* 优化自己的代码\n",
    "* 第二遍解法 \n",
    "\n",
    "#### 1. 问题描述\n",
    "给定两个数组，编写一个函数来计算它们的交集。\n",
    "\n",
    "* 示例 1:\n",
    "\n",
    ">输入: nums1 = [1,2,2,1], nums2 = [2,2] \n",
    "输出: [2]\n",
    "\n",
    "* 示例 2:\n",
    "\n",
    ">输入: nums1 = [4,9,5], nums2 = [9,4,9,8,4] \n",
    "输出: [9,4]\n",
    "\n",
    "\n",
    "\n",
    "#### 2、我的第一次解法 0206\n",
    "\n",
    "**2.1 思路**\n",
    "\n",
    "* 太简单了，以至于有点不敢相信，这个难度属于贪心算法类型题目里的一小个问题\n",
    "\n",
    "**2.2 代码尝试**"
   ]
  },
  {
   "cell_type": "code",
   "execution_count": null,
   "metadata": {},
   "outputs": [],
   "source": [
    "class Solution:\n",
    "    def intersection(self, nums1: List[int], nums2: List[int]) -> List[int]:\n",
    "        result=[i for i in nums1 if i in nums2]\n",
    "        return(list(set(result)))\n",
    "    \n",
    "# 代码通过，寻求最优解"
   ]
  },
  {
   "cell_type": "markdown",
   "metadata": {},
   "source": [
    "**2.3 正确代码解析**\n",
    "\n",
    "**解法1**\n",
    "\n",
    "解法1即我的思路，考虑了列表长度的不同\n",
    "\n",
    "```python\n",
    "class Solution:\n",
    "    def set_intersection(self, set1, set2):\n",
    "        return [x for x in set1 if x in set2]\n",
    "        \n",
    "    def intersection(self, nums1, nums2):\n",
    "        \"\"\"\n",
    "        :type nums1: List[int]\n",
    "        :type nums2: List[int]\n",
    "        :rtype: List[int]\n",
    "        \"\"\"  \n",
    "        set1 = set(nums1)\n",
    "        set2 = set(nums2)\n",
    "        \n",
    "        if len(set1) < len(set2):\n",
    "            return self.set_intersection(set1, set2)\n",
    "        else:\n",
    "            return self.set_intersection(set2, set1)\n",
    "\n",
    "```\n",
    "\n",
    "**解法2**\n",
    "\n",
    "python 内置函数&\n",
    "\n",
    "```python\n",
    "\n",
    "class Solution:\n",
    "    def intersection(self, nums1, nums2):\n",
    "        \"\"\"\n",
    "        :type nums1: List[int]\n",
    "        :type nums2: List[int]\n",
    "        :rtype: List[int]\n",
    "        \"\"\"  \n",
    "        set1 = set(nums1)\n",
    "        set2 = set(nums2)\n",
    "        return list(set2 & set1)\n",
    "\n",
    "\n",
    "```"
   ]
  },
  {
   "cell_type": "markdown",
   "metadata": {},
   "source": [
    "\n",
    "**2.4 我的代码改进**\n",
    "#### 3、相关知识讲解\n"
   ]
  }
 ],
 "metadata": {
  "kernelspec": {
   "display_name": "Python 3",
   "language": "python",
   "name": "python3"
  },
  "language_info": {
   "codemirror_mode": {
    "name": "ipython",
    "version": 3
   },
   "file_extension": ".py",
   "mimetype": "text/x-python",
   "name": "python",
   "nbconvert_exporter": "python",
   "pygments_lexer": "ipython3",
   "version": "3.6.8"
  }
 },
 "nbformat": 4,
 "nbformat_minor": 2
}
