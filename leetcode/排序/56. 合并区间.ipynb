{
 "cells": [
  {
   "cell_type": "markdown",
   "metadata": {},
   "source": [
    "#### 目录\n",
    "* 原题描述   56. 合并区间\n",
    "\n",
    "排序\n",
    "\n",
    "* 第一遍解法 \n",
    "* 网上解法\n",
    "* 优化自己的代码\n",
    "* 第二遍解法 \n",
    "\n",
    "#### 1. 问题描述\n",
    "\n",
    "给出一个区间的集合，请合并所有重叠的区间。\n",
    "\n",
    "* 示例 1:\n",
    "\n",
    "> 输入: [[1,3],[2,6],[8,10],[15,18]] \n",
    "输出: [[1,6],[8,10],[15,18]]\n",
    "解释: 区间 [1,3] 和 [2,6] 重叠, 将它们合并为 [1,6].\n",
    "\n",
    "* 示例 2:\n",
    "\n",
    ">输入: [[1,4],[4,5]] \n",
    "输出: [[1,5]] \n",
    "解释: 区间 [1,4] 和 [4,5] 可被视为重叠区间。\n",
    "\n",
    "\n",
    "#### 2、我的第一次解法 12.26\n",
    "\n",
    "**2.1 思路**\n",
    "\n",
    "**2.2 代码尝试**"
   ]
  },
  {
   "cell_type": "code",
   "execution_count": null,
   "metadata": {},
   "outputs": [],
   "source": [
    "class Solution:\n",
    "    def merge(self, intervals: List[List[int]]) -> List[List[int]]:\n",
    "        ## 合并重叠区间\n",
    "        if len(intervals)<=1:\n",
    "            return(intervals)\n",
    "        i=intervals[0][0]\n",
    "        j=intervals[0][1]\n",
    "        result=[]\n",
    "        for k in range(len(intervals)):\n",
    "            #print(k)\n",
    "            if  intervals[k][0]<=j:\n",
    "                i=min(i,intervals[k][0])\n",
    "                j=max(j,intervals[k][1])\n",
    "                result.append([i,j])\n",
    "            elif intervals[k][0]>j and intervals[k]==intervals[1]:\n",
    "                result.append(intervals[0])\n",
    "            elif intervals[k][0]>j and intervals[k]!=intervals[1]:\n",
    "                result.append(intervals[k]) \n",
    "            print(result)\n",
    "\n",
    "        return(result)\n",
    "                \n",
    "## 解答错误        "
   ]
  },
  {
   "cell_type": "markdown",
   "metadata": {},
   "source": [
    "**2.3 正确代码解析**\n",
    "\n",
    "```python\n",
    "\n",
    "class Solution:\n",
    "    def merge(self, intervals: List[List[int]]) -> List[List[int]]:\n",
    "        res = []\n",
    "        intervals.sort()## 先对起点排序\n",
    "        for i in intervals:\n",
    "            if not res or res[-1][1] < i[0]:## 如果res为空 或者区间末尾未重叠了\n",
    "                res.append(i)\n",
    "            else:\n",
    "                res[-1][1] = max(i[1],res[-1][1])\n",
    "        return(res)\n",
    "\n",
    "```\n",
    "\n",
    "\n",
    "**2.4 我的代码改进**\n",
    "#### 3、相关知识讲解\n"
   ]
  },
  {
   "cell_type": "code",
   "execution_count": null,
   "metadata": {},
   "outputs": [],
   "source": []
  }
 ],
 "metadata": {
  "kernelspec": {
   "display_name": "Python 3",
   "language": "python",
   "name": "python3"
  },
  "language_info": {
   "codemirror_mode": {
    "name": "ipython",
    "version": 3
   },
   "file_extension": ".py",
   "mimetype": "text/x-python",
   "name": "python",
   "nbconvert_exporter": "python",
   "pygments_lexer": "ipython3",
   "version": "3.6.8"
  }
 },
 "nbformat": 4,
 "nbformat_minor": 2
}
